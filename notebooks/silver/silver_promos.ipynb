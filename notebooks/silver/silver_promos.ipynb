{
 "cells": [
  {
   "cell_type": "code",
   "execution_count": 0,
   "metadata": {
    "application/vnd.databricks.v1+cell": {
     "cellMetadata": {
      "byteLimit": 2048000,
      "rowLimit": 10000
     },
     "inputWidgets": {},
     "nuid": "242accad-214c-4684-b627-3e012509faf6",
     "showTitle": false,
     "tableResultSettingsMap": {},
     "title": ""
    }
   },
   "outputs": [],
   "source": [
    "from pyspark.sql import functions as F\n",
    "from pyspark.sql import SparkSession\n",
    "\n",
    "# spark = SparkSession.builder.appName(\"silver_promos\").getOrCreate()\n",
    "\n",
    "# --- 1. Definición de Rutas ---\n",
    "BRONZE_PROMOS = 'damm_silver_des.gest_com_horeca.ca_crm_promociones'\n",
    "SILVER_PROMOS = 'damm_silver_des.pricing_unho.ca_crm_promos_test'\n",
    "SILVER_PROMOS_ESTABS = 'damm_silver_des.gest_com_horeca.ca_crm_establecimiento_objetivo'\n",
    "\n",
    "\n",
    "spark = SparkSession.builder \\\n",
    "    .appName(\"YourApp\") \\\n",
    "    .config(\"spark.network.timeout\", \"600s\") \\\n",
    "    .config(\"spark.executor.heartbeatInterval\", \"60s\") \\\n",
    "    .config(\"spark.sql.broadcastTimeout\", \"600\") \\\n",
    "    .getOrCreate()\n",
    "\n",
    "\n",
    "# --- 2. Lectura de Datos ---\n",
    "df_promos_raw = spark.table(BRONZE_PROMOS)\n",
    "df_establecimientos = (\n",
    "    spark.table(SILVER_PROMOS_ESTABS)\n",
    "    .select(\"Establecimiento\", \"PromoID\")\n",
    "    .withColumn(\"PromoID\", F.regexp_replace(F.col(\"PromoID\"), \"^0+\", \"\"))\n",
    ")\n",
    "print(\"Lectura de tablas de origen completada exitosamente.\")\n",
    "\n",
    "\n",
    "\n",
    "# --- 3. Transformación Principal ---\n",
    "df_silver = (\n",
    "    df_promos_raw\n",
    "    .withColumn(\"FechaInicio\", F.to_date(F.col(\"FechaIniDescuento\"), \"dd.MM.yyyy\"))\n",
    "    .withColumn(\"FechaFin\", F.to_date(F.col(\"FechaFinDescuento\"), \"dd.MM.yyyy\"))\n",
    "    .withColumn(\"CantidadN\", F.col(\"CantidadN\").cast(\"int\"))\n",
    "    .withColumn(\"CantidadM\", F.col(\"CantidadM\").cast(\"int\"))\n",
    "    .groupBy(\"PromoID\", \"CodigoClaseDePromocion\", \"FechaInicio\", \"FechaFin\", \"PromoIDDesc1\")\n",
    "    .agg(\n",
    "        F.collect_set(\n",
    "            F.when(F.col(\"PromoN_M\") == 'N',\n",
    "                   F.struct(F.col(\"CodigoMaterial\").alias(\"Material\"),\n",
    "                            F.col(\"CantidadN\").alias(\"Cantidad\")))\n",
    "        ).alias(\"Condicion\"),\n",
    "        F.collect_set(\n",
    "            F.when(F.col(\"PromoN_M\") == 'M',\n",
    "                   F.struct(F.col(\"CodigoMaterial\").alias(\"Material\"),\n",
    "                            F.col(\"CantidadM\").alias(\"Cantidad\")))\n",
    "        ).alias(\"Bonificacion\"),\n",
    "        F.when(\n",
    "            F.max(F.when(F.col(\"PromoN_M\") == 'M', F.col(\"CantidadM\"))) == 0,\n",
    "            F.lit(\"A_ELEGIR\")\n",
    "        ).otherwise(\n",
    "            F.lit(\"TODOS\")\n",
    "        ).alias(\"TipoBonificacion\")\n",
    "    )\n",
    "    .filter((F.size(F.col(\"Condicion\")) > 0) & (F.size(F.col(\"Bonificacion\")) > 0))\n",
    "    .filter(F.col(\"PromoID\").isNotNull())\n",
    "    .select(\n",
    "        F.col(\"PromoID\").alias(\"CondicionID\"),\n",
    "        F.col(\"CodigoClaseDePromocion\").alias(\"ClaseCondicion\"),\n",
    "        \"FechaInicio\",\n",
    "        \"FechaFin\",\n",
    "        \"Condicion\",\n",
    "        \"Bonificacion\",\n",
    "        \"TipoBonificacion\"\n",
    "    )\n",
    ")\n",
    "\n",
    "# --- 4. Join con Establecimientos ---\n",
    "df_final = (\n",
    "    df_establecimientos\n",
    "    .join(\n",
    "        df_silver,\n",
    "        on=df_establecimientos.PromoID == df_silver.CondicionID,\n",
    "        how=\"left\"\n",
    "    )\n",
    "    .select(\n",
    "        \"Establecimiento\",\n",
    "        \"CondicionID\",\n",
    "        \"FechaInicio\",\n",
    "        \"FechaFin\",\n",
    "        \"ClaseCondicion\",\n",
    "        \"Condicion\",\n",
    "        \"Bonificacion\",\n",
    "        \"TipoBonificacion\"\n",
    "    )\n",
    "    .filter(F.col(\"CondicionID\").isNotNull())\n",
    "    .distinct()\n",
    ")"
   ]
  },
  {
   "cell_type": "code",
   "execution_count": 0,
   "metadata": {
    "application/vnd.databricks.v1+cell": {
     "cellMetadata": {
      "byteLimit": 2048000,
      "rowLimit": 10000
     },
     "inputWidgets": {},
     "nuid": "9593940e-4d75-4e27-bdb4-66a0e80b1068",
     "showTitle": false,
     "tableResultSettingsMap": {},
     "title": ""
    }
   },
   "outputs": [],
   "source": [
    "\n",
    "# --- 5. Escritura en la Tabla Silver ---\n",
    "print(f\"Escribiendo los datos procesados en la tabla: {SILVER_PROMOS}\")\n",
    "(df_final.write\n",
    "    .mode(\"overwrite\")\n",
    "    .format(\"delta\")\n",
    "    .option(\"overwriteSchema\", \"true\")\n",
    "    .saveAsTable(SILVER_PROMOS)\n",
    ")\n",
    "print(f\"¡Proceso completado! La tabla {SILVER_PROMOS} ha sido creada/actualizada correctamente.\")\n"
   ]
  }
 ],
 "metadata": {
  "application/vnd.databricks.v1+notebook": {
   "computePreferences": null,
   "dashboards": [],
   "environmentMetadata": {
    "base_environment": "",
    "environment_version": "3"
   },
   "inputWidgetPreferences": null,
   "language": "python",
   "notebookMetadata": {
    "pythonIndentUnit": 4
   },
   "notebookName": "silver_promos",
   "widgets": {}
  },
  "language_info": {
   "name": "python"
  }
 },
 "nbformat": 4,
 "nbformat_minor": 0
}
